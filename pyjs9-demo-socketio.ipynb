{
 "cells": [
  {
   "cell_type": "code",
   "execution_count": null,
   "id": "2cbbb93b",
   "metadata": {},
   "outputs": [],
   "source": [
    "# NOTE: The socketio transport is unstable.  Commands often need to be re-tried in order to succeed."
   ]
  },
  {
   "cell_type": "code",
   "execution_count": null,
   "id": "325db42a",
   "metadata": {},
   "outputs": [],
   "source": [
    "import pyjs9\n",
    "import socketio"
   ]
  },
  {
   "cell_type": "code",
   "execution_count": null,
   "id": "5907a820",
   "metadata": {},
   "outputs": [],
   "source": [
    "import os\n",
    "os.environ[\"HTTPS_PROXY\"] = \"http://proxy.renci.org:8080\""
   ]
  },
  {
   "cell_type": "code",
   "execution_count": null,
   "id": "3ade819f",
   "metadata": {},
   "outputs": [],
   "source": [
    "fits1 = \"https://chandra.harvard.edu/photo/2014/igrj11014/fits/igrj11014-6103_broad.fits\"\n",
    "opts1 = {'scale':'log', 'colormap':'standard'}\n",
    "\n",
    "fits2 = \"https://chandra.harvard.edu/photo/2014/etacar/fits/etaCar_xray_low.fits\"\n",
    "opts2 = {'scale':'linear', 'colormap':'inferno'}"
   ]
  },
  {
   "cell_type": "code",
   "execution_count": null,
   "id": "97c9618b",
   "metadata": {},
   "outputs": [],
   "source": [
    "%%html\n",
    "<div style=\"text-align: center\">\n",
    "    <iframe width=\"100%\" height=\"700\" scrolling=\"no\" \n",
    "        src=https://js9fileviewer.apps.renci.org/js9.html frameborder=\"4\">\n",
    "    </iframe>\n",
    "</div>"
   ]
  },
  {
   "cell_type": "code",
   "execution_count": null,
   "id": "89ff5f8f",
   "metadata": {},
   "outputs": [],
   "source": [
    "j = pyjs9.JS9(\"https://js9fileviewer.apps.renci.org:443\", id='JS9', debug=False)"
   ]
  },
  {
   "cell_type": "code",
   "execution_count": null,
   "id": "b262090e",
   "metadata": {},
   "outputs": [],
   "source": [
    "info = j.helper()\n",
    "print(info)"
   ]
  },
  {
   "cell_type": "code",
   "execution_count": null,
   "id": "78e4f69f",
   "metadata": {},
   "outputs": [],
   "source": [
    "strings = info.split('<p>')\n",
    "if len(strings) == 2:\n",
    "    pageid = strings[1]\n",
    "    print('pageid:',pageid)"
   ]
  },
  {
   "cell_type": "code",
   "execution_count": null,
   "id": "74641d56",
   "metadata": {},
   "outputs": [],
   "source": [
    "j.__dict__[\"pageid\"] = pageid"
   ]
  },
  {
   "cell_type": "code",
   "execution_count": null,
   "id": "fa9e22ec",
   "metadata": {},
   "outputs": [],
   "source": [
    "print(j.__dict__)"
   ]
  },
  {
   "cell_type": "code",
   "execution_count": null,
   "id": "48afa150",
   "metadata": {},
   "outputs": [],
   "source": [
    "j.LoadProxy(fits1,opts1)"
   ]
  },
  {
   "cell_type": "code",
   "execution_count": null,
   "id": "2e7b3916",
   "metadata": {},
   "outputs": [],
   "source": [
    "j.RenameDisplay(\"newnameJS9\")"
   ]
  },
  {
   "cell_type": "code",
   "execution_count": null,
   "id": "08392438",
   "metadata": {},
   "outputs": [],
   "source": [
    "%%html\n",
    "<div style=\"text-align: center\">\n",
    "    <iframe width=\"600\" height=\"700\" src=https://js9fileviewer.apps.renci.org/js9.html frameborder=\"4\"></iframe>\n",
    "</div>"
   ]
  },
  {
   "cell_type": "code",
   "execution_count": null,
   "id": "ed31f54d",
   "metadata": {},
   "outputs": [],
   "source": [
    "k = pyjs9.JS9(\"https://js9fileviewer.apps.renci.org:443\", id='JS9', debug=False)\n",
    "info = k.helper()\n",
    "print(info)"
   ]
  },
  {
   "cell_type": "code",
   "execution_count": null,
   "id": "0d85ba5b",
   "metadata": {},
   "outputs": [],
   "source": [
    "strings = info.split('<p>')\n",
    "if len(strings) == 2:\n",
    "    pageid = strings[1]\n",
    "    print('pageid:',pageid)"
   ]
  },
  {
   "cell_type": "code",
   "execution_count": null,
   "id": "5a419b88",
   "metadata": {},
   "outputs": [],
   "source": [
    "k.__dict__[\"pageid\"] = pageid"
   ]
  },
  {
   "cell_type": "code",
   "execution_count": null,
   "id": "aceb9846",
   "metadata": {},
   "outputs": [],
   "source": [
    "print(k.__dict__)"
   ]
  },
  {
   "cell_type": "code",
   "execution_count": null,
   "id": "c296a7ef",
   "metadata": {},
   "outputs": [],
   "source": [
    "k.LoadProxy(fits2,opts2)"
   ]
  },
  {
   "cell_type": "code",
   "execution_count": null,
   "id": "cc436284",
   "metadata": {},
   "outputs": [],
   "source": [
    "k.SetZoom('toFit')"
   ]
  },
  {
   "cell_type": "code",
   "execution_count": null,
   "id": "5ab3a28f",
   "metadata": {},
   "outputs": [],
   "source": []
  }
 ],
 "metadata": {
  "kernelspec": {
   "display_name": "Python 3 (ipykernel)",
   "language": "python",
   "name": "python3"
  },
  "language_info": {
   "codemirror_mode": {
    "name": "ipython",
    "version": 3
   },
   "file_extension": ".py",
   "mimetype": "text/x-python",
   "name": "python",
   "nbconvert_exporter": "python",
   "pygments_lexer": "ipython3",
   "version": "3.9.5"
  }
 },
 "nbformat": 4,
 "nbformat_minor": 5
}
