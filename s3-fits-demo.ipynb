{
 "cells": [
  {
   "cell_type": "code",
   "execution_count": null,
   "id": "fcef7cd4-3524-491e-95ab-e715010978f5",
   "metadata": {},
   "outputs": [],
   "source": [
    "import boto3\n",
    "session = boto3.session.Session()\n",
    "client = session.client(service_name='s3', endpoint_url='https://na-s3.renci.org')\n",
    "bucketname = \"lightcurve\""
   ]
  },
  {
   "cell_type": "code",
   "execution_count": null,
   "id": "105bd52a-e97f-460b-a2ed-24dc038f3c6a",
   "metadata": {},
   "outputs": [],
   "source": [
    "from astropy.io import fits\n",
    "\n",
    "fitsfilename = \"e0102_1100-2000eV.fits\"\n",
    "client.download_file(bucketname, \"warren/\"+fitsfilename, fitsfilename)\n",
    "\n",
    "image_data = fits.getdata(fitsfilename, ext=0)\n",
    "print(image_data.shape)"
   ]
  },
  {
   "cell_type": "code",
   "execution_count": null,
   "id": "24b56ba4-2027-48f5-857c-4585b5e2519f",
   "metadata": {},
   "outputs": [],
   "source": [
    "import matplotlib.pyplot as plt\n",
    "from astropy.visualization import astropy_mpl_style\n",
    "plt.style.use(astropy_mpl_style)\n",
    "\n",
    "plt.figure()\n",
    "plt.imshow(image_data, cmap='gray')\n",
    "plt.colorbar()"
   ]
  },
  {
   "cell_type": "code",
   "execution_count": null,
   "id": "99de8d44-ba4f-48bf-ba8c-b3208d53f7b6",
   "metadata": {},
   "outputs": [],
   "source": []
  }
 ],
 "metadata": {
  "kernelspec": {
   "display_name": "Python 3 (ipykernel)",
   "language": "python",
   "name": "python3"
  },
  "language_info": {
   "codemirror_mode": {
    "name": "ipython",
    "version": 3
   },
   "file_extension": ".py",
   "mimetype": "text/x-python",
   "name": "python",
   "nbconvert_exporter": "python",
   "pygments_lexer": "ipython3",
   "version": "3.9.5"
  }
 },
 "nbformat": 4,
 "nbformat_minor": 5
}
