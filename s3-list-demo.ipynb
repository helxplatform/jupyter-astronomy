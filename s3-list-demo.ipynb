{
 "cells": [
  {
   "cell_type": "markdown",
   "id": "459b99fc-31c4-478f-80c8-0ec603f0ec3e",
   "metadata": {},
   "source": [
    "### S3 Folder List Tests"
   ]
  },
  {
   "cell_type": "code",
   "execution_count": null,
   "id": "fcef7cd4-3524-491e-95ab-e715010978f5",
   "metadata": {},
   "outputs": [],
   "source": [
    "import boto3\n",
    "session = boto3.session.Session()\n",
    "s3client = session.client(service_name='s3', endpoint_url='https://na-s3.renci.org')\n",
    "bucketname = \"lightcurve\""
   ]
  },
  {
   "cell_type": "code",
   "execution_count": null,
   "id": "105bd52a-e97f-460b-a2ed-24dc038f3c6a",
   "metadata": {},
   "outputs": [],
   "source": [
    "import botocore\n",
    "import datetime\n",
    "\n",
    "def list_folder_files(s3client, bucket:str, folder:str, extension:str):\n",
    "    files = []\n",
    "    sizes = []\n",
    "    lastModifieds = []\n",
    "\n",
    "    paginator = s3client.get_paginator('list_objects_v2')\n",
    "    try:\n",
    "        pages = paginator.paginate(Bucket=bucket, Prefix=folder)\n",
    "        for page in pages:\n",
    "            for obj in page['Contents']:\n",
    "                filename = obj['Key']\n",
    "                keep = True\n",
    "                if len(extension) > 0 and extension != '.*' and extension != '*':\n",
    "                    if not filename.endswith(extension):\n",
    "                        keep = False\n",
    "                if keep:\n",
    "                    size = obj['Size']\n",
    "                    lastModified = obj['LastModified']\n",
    "                    files.append(filename)\n",
    "                    sizes.append(size)\n",
    "                    lastModifieds.append(lastModified)\n",
    "    except botocore.exceptions.ClientError as e:\n",
    "        print(f\"response: {e.response}\")\n",
    "        return None\n",
    "    return files, sizes, lastModifieds"
   ]
  },
  {
   "cell_type": "markdown",
   "id": "b195288d-e3bb-4dd6-85c5-3f99bf64eed2",
   "metadata": {},
   "source": [
    "### test 1"
   ]
  },
  {
   "cell_type": "code",
   "execution_count": null,
   "id": "24b56ba4-2027-48f5-857c-4585b5e2519f",
   "metadata": {},
   "outputs": [],
   "source": [
    "t0 = datetime.datetime.now()\n",
    "\n",
    "files, sizes, lastModifieds = list_folder_files(s3client, \"lightcurve\", \"warren\", \"\")\n",
    "\n",
    "t1 = datetime.datetime.now()\n",
    "print((t1-t0).total_seconds(),\"seconds\")\n",
    "print(f\"{len(files):,} files\")\n",
    "if len(files) < 10:\n",
    "    print(f\"files: {files}\")"
   ]
  },
  {
   "cell_type": "markdown",
   "id": "e46056c2-1f47-42ad-a002-25776123cc99",
   "metadata": {},
   "source": [
    "### test 2"
   ]
  },
  {
   "cell_type": "code",
   "execution_count": null,
   "id": "82f4cc71-5942-4f20-9992-b8696c6faca9",
   "metadata": {},
   "outputs": [],
   "source": [
    "t0 = datetime.datetime.now()\n",
    "\n",
    "files, sizes, lastModifieds = list_folder_files(s3client, \"lightcurve\", \"light_curves/ratchet_imgs/\", \"\")\n",
    "\n",
    "t1 = datetime.datetime.now()\n",
    "print((t1-t0).total_seconds(),\"seconds\")\n",
    "print(f\"{len(files):,} files\")"
   ]
  },
  {
   "cell_type": "markdown",
   "id": "c27206c4-04c6-4887-b051-bbc57203ba9a",
   "metadata": {},
   "source": [
    "### test 3"
   ]
  },
  {
   "cell_type": "code",
   "execution_count": null,
   "id": "44c44828-4a91-450a-a591-a1ee42a70eac",
   "metadata": {},
   "outputs": [],
   "source": [
    "t0 = datetime.datetime.now()\n",
    "\n",
    "files, sizes, lastModifieds = list_folder_files(s3client, \"lightcurve\", \"light_curves/minipix2/\", \"\")\n",
    "\n",
    "t1 = datetime.datetime.now()\n",
    "print((t1-t0).total_seconds(),\"seconds\")\n",
    "print(f\"{len(files):,} files\")"
   ]
  },
  {
   "cell_type": "code",
   "execution_count": null,
   "id": "b4a32ff6-2f33-45e2-b518-9d7240f6a3da",
   "metadata": {},
   "outputs": [],
   "source": []
  }
 ],
 "metadata": {
  "kernelspec": {
   "display_name": "Python 3 (ipykernel)",
   "language": "python",
   "name": "python3"
  },
  "language_info": {
   "codemirror_mode": {
    "name": "ipython",
    "version": 3
   },
   "file_extension": ".py",
   "mimetype": "text/x-python",
   "name": "python",
   "nbconvert_exporter": "python",
   "pygments_lexer": "ipython3",
   "version": "3.9.5"
  }
 },
 "nbformat": 4,
 "nbformat_minor": 5
}
